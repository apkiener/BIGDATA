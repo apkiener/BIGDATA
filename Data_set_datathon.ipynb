{
 "cells": [
  {
   "cell_type": "code",
   "execution_count": 6,
   "metadata": {
    "ExecuteTime": {
     "end_time": "2020-03-19T13:03:13.917619Z",
     "start_time": "2020-03-19T13:03:13.913391Z"
    }
   },
   "outputs": [],
   "source": [
    "#!pip install pandas_profiling"
   ]
  },
  {
   "cell_type": "code",
   "execution_count": null,
   "metadata": {
    "ExecuteTime": {
     "end_time": "2020-03-19T13:03:13.947315Z",
     "start_time": "2020-03-19T13:03:13.926524Z"
    }
   },
   "outputs": [],
   "source": [
    "# Imports\n",
    "import warnings\n",
    "\n",
    "warnings.simplefilter(action='ignore')\n",
    "\n",
    "from collections import Counter\n",
    "from copy import copy, deepcopy\n",
    "#from gplearn.genetic import SymbolicTransformer\n",
    "import pandas as pd\n",
    "import numpy as np\n",
    "from tqdm import tnrange, tqdm_notebook, tqdm\n",
    "#from dataset import Dataset\n",
    "import matplotlib.pyplot as plt\n",
    "import scipy.stats as stats\n",
    "import seaborn as sns; sns.set()\n",
    "from sklearn.base import BaseEstimator, ClassifierMixin\n",
    "from sklearn.cluster import DBSCAN\n",
    "from sklearn.feature_selection import RFE\n",
    "from sklearn.linear_model import LogisticRegression\n",
    "from sklearn.model_selection import LeaveOneOut, cross_val_score, train_test_split, GridSearchCV\n",
    "from sklearn.model_selection import train_test_split\n",
    "from sklearn.naive_bayes import GaussianNB\n",
    "from sklearn.neighbors import KernelDensity\n",
    "from sklearn.neighbors import KNeighborsClassifier\n",
    "from sklearn import metrics\n",
    "from sklearn.metrics import roc_curve, roc_auc_score, confusion_matrix\n",
    "from sklearn.metrics import accuracy_score, make_scorer, f1_score, recall_score, matthews_corrcoef, precision_score, classification_report, confusion_matrix\n",
    "from sklearn.ensemble import BaggingClassifier, RandomForestClassifier, GradientBoostingClassifier\n",
    "from sklearn.tree import DecisionTreeRegressor, DecisionTreeClassifier, export_graphviz\n",
    "from matplotlib import pyplot\n",
    "from sklearn.utils.validation import column_or_1d\n",
    "from sklearn.decomposition import PCA\n",
    "from datetime import datetime\n",
    "import pandas_profiling"
   ]
  },
  {
   "cell_type": "markdown",
   "metadata": {},
   "source": [
    "# Preparing the data"
   ]
  },
  {
   "cell_type": "code",
   "execution_count": 55,
   "metadata": {
    "ExecuteTime": {
     "end_time": "2020-03-19T13:03:16.471731Z",
     "start_time": "2020-03-19T13:03:13.955164Z"
    }
   },
   "outputs": [
    {
     "data": {
      "text/html": [
       "<div>\n",
       "<style scoped>\n",
       "    .dataframe tbody tr th:only-of-type {\n",
       "        vertical-align: middle;\n",
       "    }\n",
       "\n",
       "    .dataframe tbody tr th {\n",
       "        vertical-align: top;\n",
       "    }\n",
       "\n",
       "    .dataframe thead th {\n",
       "        text-align: right;\n",
       "    }\n",
       "</style>\n",
       "<table border=\"1\" class=\"dataframe\">\n",
       "  <thead>\n",
       "    <tr style=\"text-align: right;\">\n",
       "      <th></th>\n",
       "      <th>Id_Cliente</th>\n",
       "      <th>Año Natural</th>\n",
       "      <th>Curso</th>\n",
       "      <th>Asignatura</th>\n",
       "      <th>Tipo Material Educativo</th>\n",
       "      <th>Grupo Editorial</th>\n",
       "      <th>Lengua</th>\n",
       "      <th>Tipo Soporte Actual</th>\n",
       "      <th>Variable 1</th>\n",
       "      <th>Variable 2</th>\n",
       "    </tr>\n",
       "  </thead>\n",
       "  <tbody>\n",
       "    <tr>\n",
       "      <th>0</th>\n",
       "      <td>113958</td>\n",
       "      <td>2016</td>\n",
       "      <td>27</td>\n",
       "      <td>65</td>\n",
       "      <td>3</td>\n",
       "      <td>31</td>\n",
       "      <td>26</td>\n",
       "      <td>1</td>\n",
       "      <td>16.0</td>\n",
       "      <td>70.72</td>\n",
       "    </tr>\n",
       "    <tr>\n",
       "      <th>1</th>\n",
       "      <td>113958</td>\n",
       "      <td>2016</td>\n",
       "      <td>27</td>\n",
       "      <td>53</td>\n",
       "      <td>2</td>\n",
       "      <td>31</td>\n",
       "      <td>26</td>\n",
       "      <td>1</td>\n",
       "      <td>16.0</td>\n",
       "      <td>288.48</td>\n",
       "    </tr>\n",
       "    <tr>\n",
       "      <th>2</th>\n",
       "      <td>113958</td>\n",
       "      <td>2016</td>\n",
       "      <td>24</td>\n",
       "      <td>79</td>\n",
       "      <td>1</td>\n",
       "      <td>90</td>\n",
       "      <td>26</td>\n",
       "      <td>1</td>\n",
       "      <td>8.0</td>\n",
       "      <td>101.52</td>\n",
       "    </tr>\n",
       "    <tr>\n",
       "      <th>3</th>\n",
       "      <td>113958</td>\n",
       "      <td>2016</td>\n",
       "      <td>26</td>\n",
       "      <td>53</td>\n",
       "      <td>3</td>\n",
       "      <td>31</td>\n",
       "      <td>26</td>\n",
       "      <td>1</td>\n",
       "      <td>36.0</td>\n",
       "      <td>199.08</td>\n",
       "    </tr>\n",
       "    <tr>\n",
       "      <th>4</th>\n",
       "      <td>113958</td>\n",
       "      <td>2016</td>\n",
       "      <td>28</td>\n",
       "      <td>48</td>\n",
       "      <td>1</td>\n",
       "      <td>90</td>\n",
       "      <td>13</td>\n",
       "      <td>1</td>\n",
       "      <td>22.0</td>\n",
       "      <td>401.06</td>\n",
       "    </tr>\n",
       "    <tr>\n",
       "      <th>...</th>\n",
       "      <td>...</td>\n",
       "      <td>...</td>\n",
       "      <td>...</td>\n",
       "      <td>...</td>\n",
       "      <td>...</td>\n",
       "      <td>...</td>\n",
       "      <td>...</td>\n",
       "      <td>...</td>\n",
       "      <td>...</td>\n",
       "      <td>...</td>\n",
       "    </tr>\n",
       "    <tr>\n",
       "      <th>612722</th>\n",
       "      <td>210778</td>\n",
       "      <td>2016</td>\n",
       "      <td>37</td>\n",
       "      <td>61</td>\n",
       "      <td>1</td>\n",
       "      <td>90</td>\n",
       "      <td>13</td>\n",
       "      <td>1</td>\n",
       "      <td>51.0</td>\n",
       "      <td>1873.74</td>\n",
       "    </tr>\n",
       "    <tr>\n",
       "      <th>612723</th>\n",
       "      <td>210778</td>\n",
       "      <td>2016</td>\n",
       "      <td>37</td>\n",
       "      <td>50</td>\n",
       "      <td>1</td>\n",
       "      <td>90</td>\n",
       "      <td>13</td>\n",
       "      <td>1</td>\n",
       "      <td>5.0</td>\n",
       "      <td>183.70</td>\n",
       "    </tr>\n",
       "    <tr>\n",
       "      <th>612724</th>\n",
       "      <td>210778</td>\n",
       "      <td>2016</td>\n",
       "      <td>37</td>\n",
       "      <td>7</td>\n",
       "      <td>1</td>\n",
       "      <td>1</td>\n",
       "      <td>13</td>\n",
       "      <td>1</td>\n",
       "      <td>0.0</td>\n",
       "      <td>0.00</td>\n",
       "    </tr>\n",
       "    <tr>\n",
       "      <th>612725</th>\n",
       "      <td>210778</td>\n",
       "      <td>2016</td>\n",
       "      <td>36</td>\n",
       "      <td>42</td>\n",
       "      <td>1</td>\n",
       "      <td>90</td>\n",
       "      <td>13</td>\n",
       "      <td>1</td>\n",
       "      <td>3.0</td>\n",
       "      <td>103.50</td>\n",
       "    </tr>\n",
       "    <tr>\n",
       "      <th>612726</th>\n",
       "      <td>210778</td>\n",
       "      <td>2016</td>\n",
       "      <td>37</td>\n",
       "      <td>48</td>\n",
       "      <td>1</td>\n",
       "      <td>90</td>\n",
       "      <td>13</td>\n",
       "      <td>1</td>\n",
       "      <td>94.0</td>\n",
       "      <td>2819.06</td>\n",
       "    </tr>\n",
       "  </tbody>\n",
       "</table>\n",
       "<p>612727 rows × 10 columns</p>\n",
       "</div>"
      ],
      "text/plain": [
       "        Id_Cliente  Año Natural  Curso  Asignatura  Tipo Material Educativo  \\\n",
       "0           113958         2016     27          65                        3   \n",
       "1           113958         2016     27          53                        2   \n",
       "2           113958         2016     24          79                        1   \n",
       "3           113958         2016     26          53                        3   \n",
       "4           113958         2016     28          48                        1   \n",
       "...            ...          ...    ...         ...                      ...   \n",
       "612722      210778         2016     37          61                        1   \n",
       "612723      210778         2016     37          50                        1   \n",
       "612724      210778         2016     37           7                        1   \n",
       "612725      210778         2016     36          42                        1   \n",
       "612726      210778         2016     37          48                        1   \n",
       "\n",
       "        Grupo Editorial  Lengua  Tipo Soporte Actual  Variable 1  Variable 2  \n",
       "0                    31      26                    1        16.0       70.72  \n",
       "1                    31      26                    1        16.0      288.48  \n",
       "2                    90      26                    1         8.0      101.52  \n",
       "3                    31      26                    1        36.0      199.08  \n",
       "4                    90      13                    1        22.0      401.06  \n",
       "...                 ...     ...                  ...         ...         ...  \n",
       "612722               90      13                    1        51.0     1873.74  \n",
       "612723               90      13                    1         5.0      183.70  \n",
       "612724                1      13                    1         0.0        0.00  \n",
       "612725               90      13                    1         3.0      103.50  \n",
       "612726               90      13                    1        94.0     2819.06  \n",
       "\n",
       "[612727 rows x 10 columns]"
      ]
     },
     "execution_count": 55,
     "metadata": {},
     "output_type": "execute_result"
    }
   ],
   "source": [
    "# Importing the data\n",
    "CSD2016 = pd.read_csv('/Users/apkiener/Desktop/DataThon/CDS_2016_va', encoding = 'latin-1')\n",
    "CSD2017 = pd.read_csv('/Users/apkiener/Desktop/DataThon/CDS_2017_va', encoding = 'latin-1')\n",
    "CSD2018 = pd.read_csv('/Users/apkiener/Desktop/DataThon/CDS_2018_va', encoding = 'latin-1')\n",
    "CSD2019 = pd.read_csv('/Users/apkiener/Desktop/DataThon/CDS_2019_NO_LABEL', encoding = 'latin-1')\n",
    "clientes = pd.read_csv('/Users/apkiener/Desktop/DataThon/Clientes.csv')\n",
    "CSD2016"
   ]
  },
  {
   "cell_type": "code",
   "execution_count": null,
   "metadata": {
    "ExecuteTime": {
     "end_time": "2020-03-19T13:03:16.560975Z",
     "start_time": "2020-03-19T13:03:16.475324Z"
    }
   },
   "outputs": [],
   "source": [
    "# Renaming columns for all dataframes\n",
    "CSD2016.rename(columns={'Año Natural': 'Año_Natural', 'Tipo Material Educativo': 'Tipo_Material_Educativo', 'Grupo Editorial': 'Grupo_Editorial', 'Tipo Soporte Actual': 'Tipo_Soporte_Actual', 'Variable 1': 'Variable_1', 'Variable 2': 'Variable_2'}, inplace=True)\n",
    "CSD2019.rename(columns={'Año natural': 'Año_Natural', 'Tipo Material Educativo': 'Tipo_Material_Educativo', 'Grupo Editorial': 'Grupo_Editorial', 'Tipo Soporte Actual': 'Tipo_Soporte_Actual', 'Variable1': 'Variable_1', 'Variable2': 'Variable_2'}, inplace=True)\n",
    "CSD2017.columns = CSD2016.columns\n",
    "CSD2018.columns = CSD2016.columns\n",
    "clientes.rename(columns={'Comunidad Autónoma': 'Comunidad_Autónoma'}, inplace=True)"
   ]
  },
  {
   "cell_type": "code",
   "execution_count": null,
   "metadata": {
    "ExecuteTime": {
     "end_time": "2020-03-19T13:03:17.247165Z",
     "start_time": "2020-03-19T13:03:16.563825Z"
    }
   },
   "outputs": [],
   "source": [
    "# Cleaning variables from 2018 dataset\n",
    "CSD2018[\"Curso\"] = CSD2018[\"Curso\"].str.replace(\"c\",\"\")\n",
    "CSD2018 = CSD2018.replace({\"Año_Natural\": 18}, {\"Año_Natural\": 2018}, regex=True)\n",
    "CSD2018[\"Curso\"] = CSD2018[\"Curso\"].astype('int64')\n",
    "CSD2019[\"Variable_2\"] = CSD2019[\"Variable_2\"] * 100"
   ]
  },
  {
   "cell_type": "code",
   "execution_count": null,
   "metadata": {
    "ExecuteTime": {
     "end_time": "2020-03-19T13:03:33.566603Z",
     "start_time": "2020-03-19T13:03:17.251164Z"
    }
   },
   "outputs": [],
   "source": [
    "# Creating a unique identifier for each record\n",
    "CSD2016[\"Unique_Id\"] = (CSD2016[\"Id_Cliente\"].astype(str) + CSD2016[\"Curso\"].astype(str) + CSD2016[\"Asignatura\"].astype(str) + CSD2016[\"Tipo_Material_Educativo\"].astype(str) + CSD2016[\"Lengua\"].astype(str) + CSD2016[\"Tipo_Soporte_Actual\"].astype(str))\n",
    "CSD2017[\"Unique_Id\"] = (CSD2017[\"Id_Cliente\"].astype(str) + CSD2017[\"Curso\"].astype(str) + CSD2017[\"Asignatura\"].astype(str) + CSD2017[\"Tipo_Material_Educativo\"].astype(str) + CSD2017[\"Lengua\"].astype(str) + CSD2017[\"Tipo_Soporte_Actual\"].astype(str))\n",
    "CSD2018[\"Unique_Id\"] = (CSD2018[\"Id_Cliente\"].astype(str) + CSD2018[\"Curso\"].astype(str) + CSD2018[\"Asignatura\"].astype(str) + CSD2018[\"Tipo_Material_Educativo\"].astype(str) + CSD2018[\"Lengua\"].astype(str) + CSD2018[\"Tipo_Soporte_Actual\"].astype(str))\n",
    "CSD2019[\"Unique_Id\"] = (CSD2019[\"Id_Cliente\"].astype(str) + CSD2019[\"Curso\"].astype(str) + CSD2019[\"Asignatura\"].astype(str) + CSD2019[\"Tipo_Material_Educativo\"].astype(str) + CSD2019[\"Lengua\"].astype(str) + CSD2019[\"Tipo_Soporte_Actual\"].astype(str))"
   ]
  },
  {
   "cell_type": "code",
   "execution_count": null,
   "metadata": {
    "ExecuteTime": {
     "end_time": "2020-03-19T13:03:34.154180Z",
     "start_time": "2020-03-19T13:03:33.572727Z"
    }
   },
   "outputs": [],
   "source": [
    "# Checking duplicates for 2016\n",
    "CSD2016.duplicated().sum()"
   ]
  },
  {
   "cell_type": "code",
   "execution_count": null,
   "metadata": {
    "ExecuteTime": {
     "end_time": "2020-03-19T13:03:34.894840Z",
     "start_time": "2020-03-19T13:03:34.165002Z"
    }
   },
   "outputs": [],
   "source": [
    "# Checking duplicates for 2017\n",
    "CSD2017.duplicated().sum()"
   ]
  },
  {
   "cell_type": "code",
   "execution_count": null,
   "metadata": {
    "ExecuteTime": {
     "end_time": "2020-03-19T13:03:35.313916Z",
     "start_time": "2020-03-19T13:03:34.912727Z"
    }
   },
   "outputs": [],
   "source": [
    "# Checking duplicates for 2018\n",
    "CSD2018.duplicated().sum()"
   ]
  },
  {
   "cell_type": "code",
   "execution_count": null,
   "metadata": {
    "ExecuteTime": {
     "end_time": "2020-03-19T13:03:35.741738Z",
     "start_time": "2020-03-19T13:03:35.317707Z"
    }
   },
   "outputs": [],
   "source": [
    "# Checking duplicates for 2019\n",
    "CSD2019.duplicated().sum()"
   ]
  },
  {
   "cell_type": "code",
   "execution_count": null,
   "metadata": {
    "ExecuteTime": {
     "end_time": "2020-03-19T13:03:37.040451Z",
     "start_time": "2020-03-19T13:03:35.757600Z"
    }
   },
   "outputs": [],
   "source": [
    "# Dropping duplicates\n",
    "CSD2017.sort_values(\"Unique_Id\", inplace=True)\n",
    "CSD2017 = CSD2017.drop_duplicates()"
   ]
  },
  {
   "cell_type": "code",
   "execution_count": null,
   "metadata": {
    "ExecuteTime": {
     "end_time": "2020-03-19T13:03:39.048933Z",
     "start_time": "2020-03-19T13:03:37.043094Z"
    }
   },
   "outputs": [],
   "source": [
    "# Changing Grupo_Editiorial as string\n",
    "CSD2016[\"Grupo_Editorial\"] = CSD2016[\"Grupo_Editorial\"].astype(\"str\")\n",
    "CSD2017[\"Grupo_Editorial\"] = CSD2017[\"Grupo_Editorial\"].astype(\"str\")\n",
    "CSD2018[\"Grupo_Editorial\"] = CSD2018[\"Grupo_Editorial\"].astype(\"str\")"
   ]
  },
  {
   "cell_type": "code",
   "execution_count": null,
   "metadata": {
    "ExecuteTime": {
     "end_time": "2020-03-19T13:03:39.070429Z",
     "start_time": "2020-03-19T13:03:39.052408Z"
    }
   },
   "outputs": [],
   "source": [
    "#Defining a function to return the number of years\n",
    "def courseyears(s):\n",
    "    if (pd.isnull(s[\"Años_Curso_PY\"]) == True):\n",
    "        return 1\n",
    "    else:\n",
    "        return s[\"Años_Curso_PY\"] + 1"
   ]
  },
  {
   "cell_type": "code",
   "execution_count": null,
   "metadata": {
    "ExecuteTime": {
     "end_time": "2020-03-19T13:04:38.509633Z",
     "start_time": "2020-03-19T13:03:39.075161Z"
    }
   },
   "outputs": [],
   "source": [
    "# Adding column \"Groupo_Editorial\" from the previous Year and the Number of year of the course\n",
    "CSD2016[\"Años_Curso\"] = 1\n",
    "\n",
    "CSD2016_1 = CSD2016[[\"Unique_Id\",\"Grupo_Editorial\",\"Años_Curso\"]]\n",
    "CSD2016_1.columns = [\"Unique_Id\",\"Grupo_Editorial_PY\",\"Años_Curso_PY\"]\n",
    "CSD2017 = pd.merge(CSD2017, CSD2016_1, how = \"left\", on='Unique_Id')\n",
    "CSD2017[\"Años_Curso\"] = CSD2017.apply(courseyears, axis=1)\n",
    "CSD2017 = CSD2017.drop([\"Años_Curso_PY\"], axis = 1)\n",
    "\n",
    "CSD2017_1 = CSD2017[[\"Unique_Id\",\"Grupo_Editorial\",\"Años_Curso\"]]\n",
    "CSD2017_1.columns = [\"Unique_Id\",\"Grupo_Editorial_PY\",\"Años_Curso_PY\"]\n",
    "CSD2018 = pd.merge(CSD2018, CSD2017_1,how = \"left\", on='Unique_Id')\n",
    "CSD2018[\"Años_Curso\"] = CSD2018.apply(courseyears, axis=1)\n",
    "CSD2018 = CSD2018.drop([\"Años_Curso_PY\"], axis = 1)\n",
    "\n",
    "CSD2018_1 = CSD2018[[\"Unique_Id\",\"Grupo_Editorial\",\"Años_Curso\"]]\n",
    "CSD2018_1.columns = [\"Unique_Id\",\"Grupo_Editorial_PY\",\"Años_Curso_PY\"]\n",
    "CSD2019 = pd.merge(CSD2019, CSD2018_1, how = \"left\", on='Unique_Id')\n",
    "CSD2019[\"Años_Curso\"] = CSD2019.apply(courseyears, axis=1)\n",
    "CSD2019 = CSD2019.drop([\"Años_Curso_PY\"], axis = 1)\n",
    "\n",
    "print(\"Number of courses in 2016: \" + CSD2016[\"Unique_Id\"].count().astype(str))\n",
    "print(\"Number of courses in 2017: \" + CSD2017[\"Unique_Id\"].count().astype(str))\n",
    "print(\"Number of courses in 2018: \" + CSD2018[\"Unique_Id\"].count().astype(str))\n",
    "print(\"Number of courses in 2019: \" + CSD2019[\"Unique_Id\"].count().astype(str))"
   ]
  },
  {
   "cell_type": "code",
   "execution_count": null,
   "metadata": {
    "ExecuteTime": {
     "end_time": "2020-03-19T13:04:39.321161Z",
     "start_time": "2020-03-19T13:04:38.535632Z"
    },
    "scrolled": false
   },
   "outputs": [],
   "source": [
    "# Concatenating the dataframes\n",
    "AllCDS = pd.concat([CSD2016, CSD2017, CSD2018], axis = 0, join = 'outer', ignore_index = False)\n",
    "print(\"Number of courses in All Years: \" + AllCDS[\"Unique_Id\"].count().astype(str))"
   ]
  },
  {
   "cell_type": "code",
   "execution_count": null,
   "metadata": {
    "ExecuteTime": {
     "end_time": "2020-03-19T13:04:39.342284Z",
     "start_time": "2020-03-19T13:04:39.325221Z"
    }
   },
   "outputs": [],
   "source": [
    "# Defining function to return the type of change from one year to another \n",
    "def changes(df):\n",
    "    if (pd.isnull(df[\"Grupo_Editorial_PY\"]) == True) and (df[\"Grupo_Editorial\"] == \"1\") :\n",
    "        return \"New_course_SM\"\n",
    "    elif (pd.isnull(df[\"Grupo_Editorial_PY\"]) == True) and (df[\"Grupo_Editorial\"] == \"90\") :\n",
    "        return \"New_course_No-Use\"\n",
    "    elif (pd.isnull(df[\"Grupo_Editorial_PY\"]) == True) and (df[\"Grupo_Editorial\"] != \"1\") and (df[\"Grupo_Editorial\"] != \"90\"):\n",
    "        return \"New_course_Editorial\"\n",
    "    elif (df[\"Grupo_Editorial_PY\"] == \"1\" ) and (df[\"Grupo_Editorial\"] == \"1\" ):\n",
    "        return \"SM_to_SM\"\n",
    "    elif (df[\"Grupo_Editorial_PY\"] != \"1\" ) and (df[\"Grupo_Editorial_PY\"] != \"90\" ) and (df[\"Grupo_Editorial\"] != \"1\") and (df[\"Grupo_Editorial\"] != \"90\"):\n",
    "        return \"Editorial_to_Editorial\"\n",
    "    elif (df[\"Grupo_Editorial_PY\"] == \"90\" ) and (df[\"Grupo_Editorial\"] == \"90\"):\n",
    "        return \"No-Use_to_No-Use\"\n",
    "    elif (df[\"Grupo_Editorial_PY\"] == \"1\" ) and (df[\"Grupo_Editorial\"] != \"1\" ) and (df[\"Grupo_Editorial\"] != \"90\" ):\n",
    "        return \"SM_to_Editorial\"\n",
    "    elif (df[\"Grupo_Editorial_PY\"] != \"1\" ) and (df[\"Grupo_Editorial\"] == \"1\" ) and (df[\"Grupo_Editorial\"] != \"90\" ):\n",
    "        return \"Editorial_to_SM\"\n",
    "    elif (df[\"Grupo_Editorial_PY\"] == \"90\" ) and (df[\"Grupo_Editorial\"] == \"1\"):\n",
    "        return \"No-Use_to_SM\"\n",
    "    elif (df[\"Grupo_Editorial_PY\"] == \"90\" ) and (df[\"Grupo_Editorial\"] != \"1\") and (df[\"Grupo_Editorial\"] != \"90\"):\n",
    "        return \"No-Use_to_Editorial\"\n",
    "    elif (df[\"Grupo_Editorial_PY\"] == \"1\" ) and (df[\"Grupo_Editorial\"] == \"90\"):\n",
    "        return \"SM_to_No-Use\"\n",
    "    elif (df[\"Grupo_Editorial_PY\"] != \"1\" ) and (df[\"Grupo_Editorial_PY\"] != \"90\" ) and (df[\"Grupo_Editorial\"] == \"90\"):\n",
    "        return \"Editorial_to_No-Use\"\n",
    "    else:\n",
    "        return \"FAIL\""
   ]
  },
  {
   "cell_type": "code",
   "execution_count": null,
   "metadata": {
    "ExecuteTime": {
     "end_time": "2020-03-19T13:07:23.309053Z",
     "start_time": "2020-03-19T13:04:39.346545Z"
    }
   },
   "outputs": [],
   "source": [
    "# Creating a new column applying the function already created\n",
    "AllCDS[\"Change\"] = AllCDS.apply(changes, axis=1)"
   ]
  },
  {
   "cell_type": "code",
   "execution_count": null,
   "metadata": {
    "ExecuteTime": {
     "end_time": "2020-03-19T13:07:23.744725Z",
     "start_time": "2020-03-19T13:07:23.321335Z"
    }
   },
   "outputs": [],
   "source": [
    "# Listing the changes from one year to another by type\n",
    "AllCDS[\"Change\"].value_counts()"
   ]
  },
  {
   "cell_type": "code",
   "execution_count": null,
   "metadata": {
    "ExecuteTime": {
     "end_time": "2020-03-19T13:07:23.846181Z",
     "start_time": "2020-03-19T13:07:23.828135Z"
    }
   },
   "outputs": [],
   "source": [
    "# Defining a function to return the name of the \"Grupo_Editorial\"\n",
    "def grupoeditorialnames(df):\n",
    "    if (pd.isnull(df[\"Grupo_Editorial_PY\"]) == True):\n",
    "        return \"New_Course\"\n",
    "    elif (df[\"Grupo_Editorial_PY\"] == \"1\"):\n",
    "        return \"SM\"\n",
    "    elif (df[\"Grupo_Editorial_PY\"] == \"90\"):\n",
    "        return \"No-Use\"\n",
    "    else:\n",
    "        return \"Editorial\""
   ]
  },
  {
   "cell_type": "code",
   "execution_count": null,
   "metadata": {
    "ExecuteTime": {
     "end_time": "2020-03-19T13:08:46.680090Z",
     "start_time": "2020-03-19T13:07:23.856731Z"
    }
   },
   "outputs": [],
   "source": [
    "# Applying the function to both dataframes and creating a new column with the names of the \"Grupo_Editorial\"\n",
    "AllCDS[\"Grupo_Editorial_Nombre\"] = AllCDS.apply(grupoeditorialnames, axis=1)\n",
    "CSD2019[\"Grupo_Editorial_Nombre\"] = CSD2019.apply(grupoeditorialnames, axis=1)"
   ]
  },
  {
   "cell_type": "code",
   "execution_count": null,
   "metadata": {
    "ExecuteTime": {
     "end_time": "2020-03-19T13:08:47.127795Z",
     "start_time": "2020-03-19T13:08:46.683970Z"
    }
   },
   "outputs": [],
   "source": [
    "AllCDS[\"Grupo_Editorial_Nombre\"].value_counts()"
   ]
  },
  {
   "cell_type": "code",
   "execution_count": null,
   "metadata": {
    "ExecuteTime": {
     "end_time": "2020-03-19T13:08:47.242889Z",
     "start_time": "2020-03-19T13:08:47.141239Z"
    }
   },
   "outputs": [],
   "source": [
    "CSD2019[\"Grupo_Editorial_Nombre\"].value_counts()"
   ]
  },
  {
   "cell_type": "code",
   "execution_count": null,
   "metadata": {
    "ExecuteTime": {
     "end_time": "2020-03-19T13:08:47.293019Z",
     "start_time": "2020-03-19T13:08:47.271984Z"
    }
   },
   "outputs": [],
   "source": [
    "# Defining the function to return 1 or 0 in the target variable according to the type of change\n",
    "def targetvariable(df):\n",
    "    if (df[\"Change\"]) in {\"No-Use_to_No-Use\",\"SM_to_No-Use \",\"Editorial_to_No-Use\", \"New_course_No-Use\"}:\n",
    "        return 1\n",
    "    else:\n",
    "        return 0"
   ]
  },
  {
   "cell_type": "code",
   "execution_count": null,
   "metadata": {
    "ExecuteTime": {
     "end_time": "2020-03-19T13:09:28.147304Z",
     "start_time": "2020-03-19T13:08:47.318235Z"
    }
   },
   "outputs": [],
   "source": [
    "# Applying the function to create the target variable\n",
    "AllCDS[\"Target\"] = AllCDS.apply(targetvariable, axis=1)"
   ]
  },
  {
   "cell_type": "code",
   "execution_count": null,
   "metadata": {
    "ExecuteTime": {
     "end_time": "2020-03-19T13:09:28.541586Z",
     "start_time": "2020-03-19T13:09:28.150794Z"
    }
   },
   "outputs": [],
   "source": [
    "# Checking the change to no-use for 2017\n",
    "AllCDS[AllCDS[\"Año_Natural\"] == 2017][\"Target\"].value_counts()"
   ]
  },
  {
   "cell_type": "code",
   "execution_count": null,
   "metadata": {
    "ExecuteTime": {
     "end_time": "2020-03-19T13:09:28.780968Z",
     "start_time": "2020-03-19T13:09:28.546779Z"
    }
   },
   "outputs": [],
   "source": [
    "# Checking the change to no-use for 2018\n",
    "AllCDS[AllCDS[\"Año_Natural\"] == 2018][\"Target\"].value_counts()"
   ]
  },
  {
   "cell_type": "code",
   "execution_count": null,
   "metadata": {
    "ExecuteTime": {
     "end_time": "2020-03-19T13:09:30.775950Z",
     "start_time": "2020-03-19T13:09:28.791039Z"
    }
   },
   "outputs": [],
   "source": [
    "# Merging the dataframes to add information of the schools\n",
    "AllData = pd.merge(AllCDS, clientes, on=\"Id_Cliente\", how = \"left\")\n",
    "AllCSD2019 = pd.merge(CSD2019, clientes, on=\"Id_Cliente\", how = \"left\")"
   ]
  },
  {
   "cell_type": "code",
   "execution_count": 56,
   "metadata": {
    "ExecuteTime": {
     "end_time": "2020-03-19T13:09:33.123708Z",
     "start_time": "2020-03-19T13:09:30.779572Z"
    }
   },
   "outputs": [],
   "source": [
    "# Reordering columns\n",
    "df = AllData[['Unique_Id','Id_Cliente', 'Año_Natural', 'Años_Curso','Curso','Asignatura','Tipo_Material_Educativo','Lengua','Tipo_Soporte_Actual', 'Variable_1','Variable_2','Latitud','Longitud', 'Comunidad_Autónoma', 'Id_Asociación', 'Id_Subasociación', 'Titularidad', 'Grupo_Editorial','Grupo_Editorial_PY', 'Grupo_Editorial_Nombre', 'Change','Target']]\n",
    "AllCSD2019 = AllCSD2019[['Unique_Id','Id_Cliente', 'Año_Natural','Años_Curso','Curso','Asignatura','Tipo_Material_Educativo','Lengua','Tipo_Soporte_Actual', 'Variable_1','Variable_2','Latitud','Longitud', 'Comunidad_Autónoma', 'Id_Asociación', 'Id_Subasociación', 'Titularidad','Grupo_Editorial_PY', 'Grupo_Editorial_Nombre']]"
   ]
  },
  {
   "cell_type": "code",
   "execution_count": null,
   "metadata": {
    "ExecuteTime": {
     "end_time": "2020-03-19T13:09:33.300861Z",
     "start_time": "2020-03-19T13:09:33.126893Z"
    }
   },
   "outputs": [],
   "source": []
  },
  {
   "cell_type": "code",
   "execution_count": 54,
   "metadata": {},
   "outputs": [],
   "source": [
    "AllData.to_csv(r'/Users/apkiener/Desktop/DataThon/Datathon.csv', header=True)\n",
    "\n",
    "\n"
   ]
  },
  {
   "cell_type": "code",
   "execution_count": 57,
   "metadata": {},
   "outputs": [
    {
     "data": {
      "text/html": [
       "<div>\n",
       "<style scoped>\n",
       "    .dataframe tbody tr th:only-of-type {\n",
       "        vertical-align: middle;\n",
       "    }\n",
       "\n",
       "    .dataframe tbody tr th {\n",
       "        vertical-align: top;\n",
       "    }\n",
       "\n",
       "    .dataframe thead th {\n",
       "        text-align: right;\n",
       "    }\n",
       "</style>\n",
       "<table border=\"1\" class=\"dataframe\">\n",
       "  <thead>\n",
       "    <tr style=\"text-align: right;\">\n",
       "      <th>Año_Natural</th>\n",
       "      <th>2016</th>\n",
       "      <th>2017</th>\n",
       "      <th>2018</th>\n",
       "    </tr>\n",
       "    <tr>\n",
       "      <th>Lengua</th>\n",
       "      <th></th>\n",
       "      <th></th>\n",
       "      <th></th>\n",
       "    </tr>\n",
       "  </thead>\n",
       "  <tbody>\n",
       "    <tr>\n",
       "      <th>10</th>\n",
       "      <td>121336</td>\n",
       "      <td>119824</td>\n",
       "      <td>121451</td>\n",
       "    </tr>\n",
       "    <tr>\n",
       "      <th>13</th>\n",
       "      <td>397434</td>\n",
       "      <td>403070</td>\n",
       "      <td>405601</td>\n",
       "    </tr>\n",
       "    <tr>\n",
       "      <th>18</th>\n",
       "      <td>56030</td>\n",
       "      <td>55132</td>\n",
       "      <td>55484</td>\n",
       "    </tr>\n",
       "    <tr>\n",
       "      <th>26</th>\n",
       "      <td>37927</td>\n",
       "      <td>37604</td>\n",
       "      <td>37318</td>\n",
       "    </tr>\n",
       "  </tbody>\n",
       "</table>\n",
       "</div>"
      ],
      "text/plain": [
       "Año_Natural    2016    2017    2018\n",
       "Lengua                             \n",
       "10           121336  119824  121451\n",
       "13           397434  403070  405601\n",
       "18            56030   55132   55484\n",
       "26            37927   37604   37318"
      ]
     },
     "execution_count": 57,
     "metadata": {},
     "output_type": "execute_result"
    }
   ],
   "source": [
    "pd.pivot_table(df, values='Unique_Id', index=['Lengua'],\n",
    "               columns=['Año_Natural'], aggfunc= \"count\", fill_value=0)"
   ]
  },
  {
   "cell_type": "code",
   "execution_count": null,
   "metadata": {},
   "outputs": [],
   "source": []
  }
 ],
 "metadata": {
  "hide_input": false,
  "kernelspec": {
   "display_name": "Python 3",
   "language": "python",
   "name": "python3"
  },
  "language_info": {
   "codemirror_mode": {
    "name": "ipython",
    "version": 3
   },
   "file_extension": ".py",
   "mimetype": "text/x-python",
   "name": "python",
   "nbconvert_exporter": "python",
   "pygments_lexer": "ipython3",
   "version": "3.7.4"
  },
  "toc": {
   "base_numbering": 1,
   "nav_menu": {},
   "number_sections": true,
   "sideBar": true,
   "skip_h1_title": false,
   "title_cell": "Table of Contents",
   "title_sidebar": "Contents",
   "toc_cell": false,
   "toc_position": {},
   "toc_section_display": true,
   "toc_window_display": true
  },
  "varInspector": {
   "cols": {
    "lenName": 16,
    "lenType": 16,
    "lenVar": 40
   },
   "kernels_config": {
    "python": {
     "delete_cmd_postfix": "",
     "delete_cmd_prefix": "del ",
     "library": "var_list.py",
     "varRefreshCmd": "print(var_dic_list())"
    },
    "r": {
     "delete_cmd_postfix": ") ",
     "delete_cmd_prefix": "rm(",
     "library": "var_list.r",
     "varRefreshCmd": "cat(var_dic_list()) "
    }
   },
   "types_to_exclude": [
    "module",
    "function",
    "builtin_function_or_method",
    "instance",
    "_Feature"
   ],
   "window_display": false
  }
 },
 "nbformat": 4,
 "nbformat_minor": 2
}
